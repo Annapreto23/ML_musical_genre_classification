{
 "cells": [
  {
   "cell_type": "code",
   "execution_count": 1,
   "id": "e47b2713-a965-4384-b102-2752cc703b01",
   "metadata": {},
   "outputs": [],
   "source": [
    "import conca_data\n",
    "import playlist_to_csv_artist\n",
    "import pandas as pd\n"
   ]
  },
  {
   "cell_type": "code",
   "execution_count": 3,
   "id": "bdc01af9-11b5-4257-9f07-65f7d06d8809",
   "metadata": {},
   "outputs": [],
   "source": [
    "genre = ['rock', 'rock', 'rock', 'rock', 'rock', 'rap', 'rap', 'rap', 'rap', 'rap', 'electro', 'electro', 'electro', 'electro', 'electro', 'classique', 'classique', 'classique', 'classique', 'classique']\n",
    "name = ['beatles', 'ledzepplin', 'rollingstones', 'acdc', 'queen', 'kendricklamar', 'jcole', 'drake', 'travisscott', 'cardib', 'daftpunk', 'chemicalbrothers', 'aphextwins', 'deadmau5', 'kraftwerk', 'bach', 'mozart', 'beethoven', 'chopin', 'brahms']\n",
    "playlist_id_list = ['37i9dQZF1DZ06evO2iBPiw', '37i9dQZF1DZ06evO1NyWWI', '37i9dQZF1DZ06evO19s0CZ', '37i9dQZF1DZ06evO49hLQA', '37i9dQZF1DZ06evO0ENBD2', '37i9dQZF1DX5EkyRFIV92g', '37i9dQZF1DXcGnc6d1f20P', '37i9dQZF1DX7QOv5kjbU68', '37i9dQZF1DWUgX5cUT0GbU', '37i9dQZF1DWXXQuxfjYVxb', '37i9dQZF1DWZAkrucRF6Gq', '37i9dQZF1DZ06evO0Wh2k8', '37i9dQZF1DZ06evO3JKYkV', '37i9dQZF1DZ06evO1vr63S', '37i9dQZF1DZ06evO03z8Pd', '37i9dQZF1DWZnzwzLBft6A', '37i9dQZF1DX8qqIDAkKiQg', '37i9dQZF1DX12YIlzNkccL', '37i9dQZF1DWV7cvDzE3MOI', '37i9dQZF1DXaQQM8OxjxoC']\n"
   ]
  },
  {
   "cell_type": "code",
   "execution_count": 2,
   "id": "1db0a119-ed5a-447a-965a-92e0526108b7",
   "metadata": {},
   "outputs": [],
   "source": [
    "genre = ['rap']\n",
    "name = ['jezzybazz']\n",
    "playlist_id_list = ['37i9dQZF1DZ06evO03dpbG']"
   ]
  },
  {
   "cell_type": "code",
   "execution_count": 4,
   "id": "8fc4ac9d-446e-495e-b9fe-48fea0f25afd",
   "metadata": {},
   "outputs": [],
   "source": []
  },
  {
   "cell_type": "code",
   "execution_count": 3,
   "id": "78a8cd27-f39d-4ca9-bf44-1e3791e24758",
   "metadata": {},
   "outputs": [],
   "source": [
    "for i in range(0,len(name)):\n",
    "    playlist_to_csv_artist.df_playlist_artist(playlist_id_list[i], name[i], genre[i])"
   ]
  },
  {
   "cell_type": "code",
   "execution_count": null,
   "id": "156ccd06-81bd-46b7-b62f-83b1d41f1bac",
   "metadata": {},
   "outputs": [],
   "source": []
  }
 ],
 "metadata": {
  "kernelspec": {
   "display_name": "Python 3",
   "language": "python",
   "name": "python3"
  },
  "language_info": {
   "codemirror_mode": {
    "name": "ipython",
    "version": 3
   },
   "file_extension": ".py",
   "mimetype": "text/x-python",
   "name": "python",
   "nbconvert_exporter": "python",
   "pygments_lexer": "ipython3",
   "version": "3.8.6"
  }
 },
 "nbformat": 4,
 "nbformat_minor": 5
}
